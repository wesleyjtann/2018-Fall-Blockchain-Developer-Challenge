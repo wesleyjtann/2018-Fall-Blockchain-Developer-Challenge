{
 "cells": [
  {
   "cell_type": "code",
   "execution_count": 35,
   "metadata": {},
   "outputs": [],
   "source": [
    "from Crypto.Hash import SHA256 as hashFunction\n",
    "import datetime as date\n",
    "\n",
    "\n",
    "class Block:\n",
    "    def __init__(self, transaction=None, value=0, parent_hash=None, height=0):\n",
    "        self.height = height\n",
    "        self.transaction = transaction\n",
    "        self.value = value\n",
    "        self.parent_hash = parent_hash\n",
    "        self.hash = self.hash_self()\n",
    "\n",
    "    def __str__(self):\n",
    "        return \"block height:%s; transactions contained: %s; value: %s; parent hash: %s; current block hash: %s.\\n\" % (self.height, self.transaction, self.value, self.parent_hash, self.hash)\n",
    "\n",
    "    def hash_self(self):\n",
    "        hash = hashFunction.new()\n",
    "        hash.update((str(self.height) + \n",
    "                    str(self.value) +\n",
    "                    str(self.transaction) + \n",
    "                    str(self.parent_hash)).encode())\n",
    "        return hash.hexdigest()\n",
    "    \n",
    "    __repr__ = __str__"
   ]
  },
  {
   "cell_type": "code",
   "execution_count": 36,
   "metadata": {},
   "outputs": [],
   "source": [
    "from block import Block\n",
    "import datetime as date\n",
    "\n",
    "#creates genesis block\n",
    "class Blockchain:\n",
    "    blocks = []\n",
    "    def __init__(self):\n",
    "        self.genesis()\n",
    "\n",
    "    def __str__(self):\n",
    "        return str(self.blocks)\n",
    "\n",
    "    #Your address is 0xd3adb33f and you will be sending to yourself 100 coins as a reward for coming up with this wonderful framework\n",
    "    def genesis(self):\n",
    "        self.blocks.append(Block(transaction='0xd3adb33f', value = 100)) \n",
    "\n",
    "    def get_current_block(self):\n",
    "        return self.blocks[len(self.blocks)-1]\n",
    "\n",
    "    def mine(self, parent_block, transactions=None, value=0):\n",
    "        child_height = parent_block.height + 1\n",
    "        parent_hash = parent_block.hash\n",
    "        self.blocks.append(Block(transactions, value, parent_hash, child_height))\n",
    "\n",
    "    __repr__ = __str__"
   ]
  },
  {
   "cell_type": "code",
   "execution_count": 37,
   "metadata": {},
   "outputs": [],
   "source": [
    "number_of_blocks = 5\n",
    "new_chain = Blockchain()"
   ]
  },
  {
   "cell_type": "code",
   "execution_count": 38,
   "metadata": {},
   "outputs": [],
   "source": [
    "for block in range(number_of_blocks-1):\n",
    "    new_chain.mine(new_chain.get_current_block())\n"
   ]
  },
  {
   "cell_type": "code",
   "execution_count": 39,
   "metadata": {},
   "outputs": [
    {
     "data": {
      "text/plain": [
       "5"
      ]
     },
     "execution_count": 39,
     "metadata": {},
     "output_type": "execute_result"
    }
   ],
   "source": [
    "len(new_chain.blocks)"
   ]
  },
  {
   "cell_type": "code",
   "execution_count": 24,
   "metadata": {},
   "outputs": [],
   "source": [
    "final_block = new_chain.get_current_block()\n",
    "\n",
    "# hash_final_block = new_chain.get_current_block().parent hash"
   ]
  },
  {
   "cell_type": "code",
   "execution_count": 27,
   "metadata": {},
   "outputs": [
    {
     "data": {
      "text/plain": [
       "'9400b8b82ca50e77cb017aa910f5c7a31541b2c0a95a00fba41dec6da7e18da7'"
      ]
     },
     "execution_count": 27,
     "metadata": {},
     "output_type": "execute_result"
    }
   ],
   "source": [
    "# hash_final_block = \n",
    "final_block.hash"
   ]
  },
  {
   "cell_type": "code",
   "execution_count": 28,
   "metadata": {},
   "outputs": [
    {
     "data": {
      "text/plain": [
       "'9400b8b82ca50e77cb017aa910f5c7a31541b2c0a95a00fba41dec6da7e18da7'"
      ]
     },
     "execution_count": 28,
     "metadata": {},
     "output_type": "execute_result"
    }
   ],
   "source": [
    "new_chain.get_current_block().hash"
   ]
  },
  {
   "cell_type": "code",
   "execution_count": null,
   "metadata": {},
   "outputs": [],
   "source": []
  }
 ],
 "metadata": {
  "kernelspec": {
   "display_name": "env",
   "language": "python",
   "name": "env"
  },
  "language_info": {
   "codemirror_mode": {
    "name": "ipython",
    "version": 3
   },
   "file_extension": ".py",
   "mimetype": "text/x-python",
   "name": "python",
   "nbconvert_exporter": "python",
   "pygments_lexer": "ipython3",
   "version": "3.5.2"
  }
 },
 "nbformat": 4,
 "nbformat_minor": 2
}
